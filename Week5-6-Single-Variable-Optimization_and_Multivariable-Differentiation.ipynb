{
 "cells": [
  {
   "cell_type": "code",
   "execution_count": null,
   "id": "5ab1aba2-aec8-45e0-a7ab-031f1ad8c923",
   "metadata": {},
   "outputs": [],
   "source": []
  }
 ],
 "metadata": {
  "kernelspec": {
   "display_name": "",
   "name": ""
  },
  "language_info": {
   "name": ""
  }
 },
 "nbformat": 4,
 "nbformat_minor": 5
}
